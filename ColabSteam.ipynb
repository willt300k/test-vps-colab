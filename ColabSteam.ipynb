{
  "nbformat": 4,
  "nbformat_minor": 0,
  "metadata": {
    "colab": {
      "provenance": [],
      "gpuType": "T4",
      "authorship_tag": "ABX9TyNCze9V5IZvU3ao3WR4dEda"
    },
    "kernelspec": {
      "name": "python3",
      "display_name": "Python 3"
    },
    "language_info": {
      "name": "python"
    },
    "accelerator": "GPU"
  },
  "cells": [
    {
      "cell_type": "code",
      "execution_count": null,
      "metadata": {
        "id": "ZJ-xV2q10ysk"
      },
      "outputs": [],
      "source": [
        "\n",
        "#@title 🖥️ Colab Cloud Game Mode by NT.Hai { display-mode: \"form\" }\n",
        "Mount_Google_Drive = False #@param {type:\"boolean\"}\n",
        "\n",
        "if Mount_Google_Drive:\n",
        "    from google.colab import drive\n",
        "    drive.mount('/content/drive')\n",
        "    print(\"✅ Drive mounted.\")\n",
        "else:\n",
        "    print(\"⛔ Skipped mount.\")\n",
        "\n",
        "!wget -q https://github.com/kmille36/Colab-Cloud-Gaming/raw/refs/heads/main/ColabSteam && chmod +x ColabSteam && ./ColabSteam"
      ]
    }
  ]
}